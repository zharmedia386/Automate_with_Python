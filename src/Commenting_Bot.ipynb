{
 "cells": [
  {
   "cell_type": "markdown",
   "id": "1c20bb52",
   "metadata": {},
   "source": [
    "# Commenting Bot to Particular Instagram Accounts"
   ]
  },
  {
   "cell_type": "code",
   "execution_count": 241,
   "id": "e11ef222",
   "metadata": {},
   "outputs": [],
   "source": [
    "from selenium import webdriver\n",
    "from selenium.webdriver.common.keys import Keys\n",
    "from selenium.webdriver.support import expected_conditions as EC\n",
    "from selenium.webdriver.common.by import By\n",
    "from selenium.webdriver.support.wait import WebDriverWait\n",
    "import time\n",
    "import random"
   ]
  },
  {
   "cell_type": "markdown",
   "id": "748abcfb",
   "metadata": {},
   "source": [
    "## Step 1 - Chrome Driver"
   ]
  },
  {
   "cell_type": "code",
   "execution_count": 242,
   "id": "6969f70e",
   "metadata": {},
   "outputs": [],
   "source": [
    "driver = webdriver.Chrome('D:\\chromedriver_win32\\chromedriver.exe')\n",
    "driver.get('https://www.instagram.com')"
   ]
  },
  {
   "cell_type": "markdown",
   "id": "d215753a",
   "metadata": {},
   "source": [
    "## Step 2 - Log in by Username and Password"
   ]
  },
  {
   "cell_type": "code",
   "execution_count": 243,
   "id": "b41d1996",
   "metadata": {},
   "outputs": [],
   "source": [
    "time.sleep(3)\n",
    "username = driver.find_element_by_css_selector(\"input[name='username']\").send_keys('My_Username')\n",
    "password = driver.find_element_by_xpath(\"//input[@name='password']\").send_keys('My_Password')\n",
    "time.sleep(1)\n",
    "button = WebDriverWait(driver,10).until(EC.element_to_be_clickable((By.XPATH, \"//button[@type='submit']\"))).click()"
   ]
  },
  {
   "cell_type": "markdown",
   "id": "855bb2a9",
   "metadata": {},
   "source": [
    "## Step 3 - Handle Alerts"
   ]
  },
  {
   "cell_type": "code",
   "execution_count": 244,
   "id": "35cdd5b4",
   "metadata": {},
   "outputs": [],
   "source": [
    "time.sleep(3)\n",
    "notNow_alert = WebDriverWait(driver,10).until(EC.element_to_be_clickable((By.XPATH, \"//button[contains(text(), 'Not Now')]\"))).click()"
   ]
  },
  {
   "cell_type": "markdown",
   "id": "587ef091",
   "metadata": {},
   "source": [
    "## Step 4 - Search Username"
   ]
  },
  {
   "cell_type": "code",
   "execution_count": 245,
   "id": "f146cf6c",
   "metadata": {},
   "outputs": [],
   "source": [
    "time.sleep(2)\n",
    "search_username = WebDriverWait(driver,10).until(EC.element_to_be_clickable((By.XPATH, \"//input[@placeholder='Search']\")))\n",
    "search_username.send_keys('m.azhar.alauddin')\n",
    "time.sleep(3)\n",
    "search_username.send_keys(Keys.ENTER)\n",
    "time.sleep(3)\n",
    "search_username.send_keys(Keys.ENTER)\n",
    "time.sleep(3)"
   ]
  },
  {
   "cell_type": "markdown",
   "id": "72a7b0f7",
   "metadata": {},
   "source": [
    "## Step 5 - Click Follow Button"
   ]
  },
  {
   "cell_type": "code",
   "execution_count": 246,
   "id": "f8db8ee1",
   "metadata": {},
   "outputs": [],
   "source": [
    "# Optional\n",
    "# follow_button = WebDriverWait(driver,10).until(EC.element_to_be_clickable((By.XPATH, \"//button[contains(text(), 'Follow')]\")))\n",
    "# follow_button.click()"
   ]
  },
  {
   "cell_type": "markdown",
   "id": "9e37f38b",
   "metadata": {},
   "source": [
    "## Step 6 - Target Image Links"
   ]
  },
  {
   "cell_type": "code",
   "execution_count": 247,
   "id": "45ed342d",
   "metadata": {},
   "outputs": [
    {
     "data": {
      "text/plain": [
       "['https://www.instagram.com/p/CSrY1hSl2PY/']"
      ]
     },
     "execution_count": 247,
     "metadata": {},
     "output_type": "execute_result"
    }
   ],
   "source": [
    "anchors = driver.find_elements_by_tag_name('a')\n",
    "anchors = [a.get_attribute('href') for a in anchors]\n",
    "anchors = [a for a in anchors if a.startswith(\"https://www.instagram.com/p/\")]\n",
    "anchors"
   ]
  },
  {
   "cell_type": "markdown",
   "id": "178aa94c",
   "metadata": {},
   "source": [
    "## Step 7 - Redirect Page to the Particular Post"
   ]
  },
  {
   "cell_type": "code",
   "execution_count": 248,
   "id": "15b5e8dd",
   "metadata": {},
   "outputs": [],
   "source": [
    "for a in anchors :\n",
    "    driver.get(a)\n",
    "    # Content\n",
    "    greetings = [\"Hi!\", \"Hello!\", \"Hey!\", \"Heeey!\", \"Greetings!\"]\n",
    "    desc = [\" I saw your photos - they are beautiful! wanna collab??\", \" That's cool bro\"]\n",
    "    index_greet = random.randint(0, (len(greetings)-1))\n",
    "    index_desc = random.randint(0, (len(desc)-1))\n",
    "    # Send Message\n",
    "    sendMessage = str(greetings[index_greet] + desc[index_desc])\n",
    "    form = driver.find_element_by_tag_name(\"form\").click()\n",
    "    time.sleep(2)\n",
    "    commentBox = WebDriverWait(driver,10).until(EC.element_to_be_clickable((By.XPATH, \"//textarea[@placeholder='Add a comment…']\")))\n",
    "    commentBox.send_keys(sendMessage)\n",
    "    # Button Click\n",
    "    time.sleep(1)\n",
    "    buttonPost = WebDriverWait(driver,10).until(EC.element_to_be_clickable((By.XPATH, \"//button[contains(text(), 'Post')]\"))).click()"
   ]
  },
  {
   "cell_type": "code",
   "execution_count": null,
   "id": "435f25fb",
   "metadata": {},
   "outputs": [],
   "source": []
  },
  {
   "cell_type": "code",
   "execution_count": null,
   "id": "317896b0",
   "metadata": {},
   "outputs": [],
   "source": []
  },
  {
   "cell_type": "code",
   "execution_count": null,
   "id": "788c1fe4",
   "metadata": {},
   "outputs": [],
   "source": []
  }
 ],
 "metadata": {
  "kernelspec": {
   "display_name": "Python 3",
   "language": "python",
   "name": "python3"
  },
  "language_info": {
   "codemirror_mode": {
    "name": "ipython",
    "version": 3
   },
   "file_extension": ".py",
   "mimetype": "text/x-python",
   "name": "python",
   "nbconvert_exporter": "python",
   "pygments_lexer": "ipython3",
   "version": "3.8.8"
  }
 },
 "nbformat": 4,
 "nbformat_minor": 5
}
