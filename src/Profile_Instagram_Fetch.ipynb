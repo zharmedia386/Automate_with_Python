{
 "cells": [
  {
   "cell_type": "markdown",
   "id": "cf1fedc8",
   "metadata": {},
   "source": [
    "# Profile Fetch From Particular Accounts"
   ]
  },
  {
   "cell_type": "code",
   "execution_count": 3,
   "id": "3f61227d",
   "metadata": {},
   "outputs": [],
   "source": [
    "from selenium import webdriver\n",
    "from selenium.webdriver.common.keys import Keys\n",
    "from selenium.webdriver.support import expected_conditions as EC\n",
    "from selenium.webdriver.common.by import By\n",
    "from selenium.webdriver.support.wait import WebDriverWait\n",
    "import time\n",
    "import random"
   ]
  },
  {
   "cell_type": "markdown",
   "id": "0134b2a1",
   "metadata": {},
   "source": [
    "## Step 1 - Chrome Driver"
   ]
  },
  {
   "cell_type": "code",
   "execution_count": 14,
   "id": "5204504e",
   "metadata": {},
   "outputs": [],
   "source": [
    "driver = webdriver.Chrome('D:\\chromedriver_win32\\chromedriver.exe')\n",
    "driver.get('https://www.instagram.com')"
   ]
  },
  {
   "cell_type": "markdown",
   "id": "7f7d71eb",
   "metadata": {},
   "source": [
    "## Step 2 - Login"
   ]
  },
  {
   "cell_type": "code",
   "execution_count": 15,
   "id": "b36a7503",
   "metadata": {},
   "outputs": [],
   "source": [
    "username = WebDriverWait(driver,10).until(EC.element_to_be_clickable((By.XPATH, \"//input[@name='username']\"))).send_keys('MY_USERNAME')\n",
    "password = WebDriverWait(driver,10).until(EC.element_to_be_clickable((By.CSS_SELECTOR, \"input[name='password']\"))).send_keys('MY_PASSWORD')\n",
    "\n",
    "submit = WebDriverWait(driver,10).until(EC.element_to_be_clickable((By.XPATH, \"//button[@type='submit']\"))).click()"
   ]
  },
  {
   "cell_type": "markdown",
   "id": "f7d5e191",
   "metadata": {},
   "source": [
    "## Step 3 - Handle Alerts"
   ]
  },
  {
   "cell_type": "code",
   "execution_count": 16,
   "id": "92f73b4b",
   "metadata": {},
   "outputs": [],
   "source": [
    "notNow_alert = WebDriverWait(driver,10).until(EC.element_to_be_clickable((By.XPATH, \"//button[contains(text(), 'Not Now')]\")))\n",
    "notNow_alert.click()"
   ]
  },
  {
   "cell_type": "markdown",
   "id": "e93ffc70",
   "metadata": {},
   "source": [
    "## Step 4 - Get the Number of Followers, Following and Posts"
   ]
  },
  {
   "cell_type": "code",
   "execution_count": 80,
   "id": "b5ec00d5",
   "metadata": {},
   "outputs": [],
   "source": [
    "users = ['zharmedia.co', 'm.azhar.alauddin']\n",
    "id = 0\n",
    "from datetime import date\n",
    "for user in users :\n",
    "    id += 1\n",
    "    filename = str(date.today()) + \" - \" + \"scape\"\n",
    "    \n",
    "    # Redirect to the particular user accounts\n",
    "    driver.get(f\"https://www.instagram.com/{user}/\")\n",
    "    time.sleep(2)\n",
    "    \n",
    "    # Get the detail profile\n",
    "    number_of_post, followers, following = driver.find_elements_by_css_selector('.g47SY')\n",
    "    bio = driver.find_element_by_css_selector('.-vDIg')\n",
    "    \n",
    "    # Write and Append to the .txt file\n",
    "    with open(f\"{filename}.txt\", \"a\", encoding='utf-8') as file :\n",
    "        file.write(f\"{id}.\\nNumber of Posts : {number_of_post.text}\\nFollowers : {followers.text}\\nFollowing : {following.text}\\n\\nBio :\\n{bio.text}\\n\\n\\n\")\n",
    "        file.close()\n",
    "    time.sleep(1)"
   ]
  }
 ],
 "metadata": {
  "kernelspec": {
   "display_name": "Python 3",
   "language": "python",
   "name": "python3"
  },
  "language_info": {
   "codemirror_mode": {
    "name": "ipython",
    "version": 3
   },
   "file_extension": ".py",
   "mimetype": "text/x-python",
   "name": "python",
   "nbconvert_exporter": "python",
   "pygments_lexer": "ipython3",
   "version": "3.8.8"
  }
 },
 "nbformat": 4,
 "nbformat_minor": 5
}
