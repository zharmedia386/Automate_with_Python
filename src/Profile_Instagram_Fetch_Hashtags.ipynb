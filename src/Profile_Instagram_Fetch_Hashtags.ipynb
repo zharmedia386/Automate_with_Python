{
 "cells": [
  {
   "cell_type": "markdown",
   "id": "9b229ed1",
   "metadata": {},
   "source": [
    "# Profile Fetch From Hashtags"
   ]
  },
  {
   "cell_type": "code",
   "execution_count": 2,
   "id": "48b7ac25",
   "metadata": {},
   "outputs": [],
   "source": [
    "from selenium import webdriver\n",
    "from selenium.webdriver.common.keys import Keys\n",
    "from selenium.webdriver.support import expected_conditions as EC\n",
    "from selenium.webdriver.common.by import By\n",
    "from selenium.webdriver.support.wait import WebDriverWait\n",
    "import time\n",
    "import random"
   ]
  },
  {
   "cell_type": "markdown",
   "id": "a416c96e",
   "metadata": {},
   "source": [
    "## Step 1 - Chrome Driver"
   ]
  },
  {
   "cell_type": "code",
   "execution_count": 3,
   "id": "f1b1a925",
   "metadata": {},
   "outputs": [],
   "source": [
    "driver = webdriver.Chrome('D:\\chromedriver_win32\\chromedriver.exe')\n",
    "driver.get('https://www.instagram.com')"
   ]
  },
  {
   "cell_type": "markdown",
   "id": "cb39e232",
   "metadata": {},
   "source": [
    "## Step 2 - Login"
   ]
  },
  {
   "cell_type": "code",
   "execution_count": 4,
   "id": "ee7d8182",
   "metadata": {},
   "outputs": [],
   "source": [
    "username = WebDriverWait(driver,10).until(EC.element_to_be_clickable((By.XPATH, \"//input[@name='username']\"))).send_keys('MY_USERNAME')\n",
    "password = WebDriverWait(driver,10).until(EC.element_to_be_clickable((By.CSS_SELECTOR, \"input[name='password']\"))).send_keys('MY_PASSWORD')\n",
    "\n",
    "submit = WebDriverWait(driver,10).until(EC.element_to_be_clickable((By.XPATH, \"//button[@type='submit']\"))).click()"
   ]
  },
  {
   "cell_type": "markdown",
   "id": "472215ab",
   "metadata": {},
   "source": [
    "## Step 3 - Handle Alerts"
   ]
  },
  {
   "cell_type": "code",
   "execution_count": 5,
   "id": "9db86e86",
   "metadata": {},
   "outputs": [],
   "source": [
    "notNow_alert = WebDriverWait(driver,10).until(EC.element_to_be_clickable((By.XPATH, \"//button[contains(text(), 'Not Now')]\")))\n",
    "notNow_alert.click()"
   ]
  },
  {
   "cell_type": "markdown",
   "id": "275599bf",
   "metadata": {},
   "source": [
    "## Step 4 - Go to Link Hashtags and Fetch Each Links"
   ]
  },
  {
   "cell_type": "code",
   "execution_count": 8,
   "id": "3d5c27da",
   "metadata": {},
   "outputs": [
    {
     "data": {
      "text/plain": [
       "['https://www.instagram.com/p/CEoHRNDJl83/',\n",
       " 'https://www.instagram.com/p/CEf2frlD4M6/',\n",
       " 'https://www.instagram.com/p/CEejwz-Jnpk/',\n",
       " 'https://www.instagram.com/p/CEeWDytppdc/',\n",
       " 'https://www.instagram.com/p/CEeUTlTJTZu/',\n",
       " 'https://www.instagram.com/p/CEZFHpLl9ML/',\n",
       " 'https://www.instagram.com/p/CEY7h4rs1JW/']"
      ]
     },
     "execution_count": 8,
     "metadata": {},
     "output_type": "execute_result"
    }
   ],
   "source": [
    "# Go to specific Hashtags\n",
    "tags = 'jtkpolban2020'\n",
    "driver.get(f\"https://www.instagram.com/explore/tags/{tags}/\")\n",
    "driver.maximize_window()\n",
    "\n",
    "# scroll\n",
    "n_scrolls = 3\n",
    "for i in range(1, n_scrolls):\n",
    "    driver.execute_script(\"window.scrollTo(0, document.body.scrollHeight);\")\n",
    "    time.sleep(2)\n",
    "    \n",
    "# get_the_each_post_page\n",
    "anchors = driver.find_elements_by_tag_name('a')\n",
    "anchors = [a.get_attribute('href') for a in anchors]\n",
    "anchors = [a for a in anchors if a.startswith(\"https://www.instagram.com/p/\")]\n",
    "anchors"
   ]
  },
  {
   "cell_type": "markdown",
   "id": "4d09ee21",
   "metadata": {},
   "source": [
    "## Step 5 - Get the Number of Followers, Following and Posts from Hashtags"
   ]
  },
  {
   "cell_type": "code",
   "execution_count": 9,
   "id": "6df2cb42",
   "metadata": {},
   "outputs": [],
   "source": [
    "# get_details_from_each_accounts\n",
    "id = 0\n",
    "from datetime import date\n",
    "for data in anchors :\n",
    "    # Id and Filenames\n",
    "    id += 1\n",
    "    filename = str(date.today()) + \" - \" + \"Hashtags\"\n",
    "    \n",
    "    # Redirect to the particular user accounts\n",
    "    driver.get(f\"{data}\")\n",
    "    time.sleep(4)\n",
    "    \n",
    "    # Go to the particular account by clicking the name\n",
    "    driver.find_element_by_xpath(\"//a[contains(@class, 'sqdOP')]\").click()\n",
    "    time.sleep(3)\n",
    "    \n",
    "    # Get the username\n",
    "    username = driver.find_element_by_xpath(\"//h2[contains(@class, '_7UhW9')]\").text\n",
    "    \n",
    "    # Get the detail profile\n",
    "    number_of_post, followers, following = driver.find_elements_by_css_selector('.g47SY')\n",
    "    bio = driver.find_element_by_css_selector('.QGPIr')\n",
    "    \n",
    "    # Write and Append to the .txt file\n",
    "    with open(f\"{filename}.txt\", \"a\", encoding='utf-8') as file :\n",
    "        file.write(f\"{id}.\\nUsername : {username}\\nNumber of Posts : {number_of_post.text}\\nFollowers : {followers.text}\\nFollowing : {following.text}\\n\\nBio :\\n{bio.text}\\n\\n\\n\")\n",
    "        file.close()\n",
    "    time.sleep(1)"
   ]
  },
  {
   "cell_type": "code",
   "execution_count": null,
   "id": "21469b63",
   "metadata": {},
   "outputs": [],
   "source": []
  }
 ],
 "metadata": {
  "kernelspec": {
   "display_name": "Python 3",
   "language": "python",
   "name": "python3"
  },
  "language_info": {
   "codemirror_mode": {
    "name": "ipython",
    "version": 3
   },
   "file_extension": ".py",
   "mimetype": "text/x-python",
   "name": "python",
   "nbconvert_exporter": "python",
   "pygments_lexer": "ipython3",
   "version": "3.8.8"
  }
 },
 "nbformat": 4,
 "nbformat_minor": 5
}
