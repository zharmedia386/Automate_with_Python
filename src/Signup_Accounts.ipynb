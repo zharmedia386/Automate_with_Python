{
 "cells": [
  {
   "cell_type": "code",
   "execution_count": 1,
   "id": "416bb1b3",
   "metadata": {},
   "outputs": [],
   "source": [
    "from selenium import webdriver\n",
    "from selenium.webdriver.common.keys import Keys\n",
    "from selenium.webdriver.support import expected_conditions as EC\n",
    "from selenium.webdriver.common.by import By\n",
    "from selenium.webdriver.support.wait import WebDriverWait\n",
    "import time \n",
    "import random "
   ]
  },
  {
   "cell_type": "markdown",
   "id": "4d3a6c07",
   "metadata": {},
   "source": [
    "## Step 1 - Chrome Driver and Specific Link"
   ]
  },
  {
   "cell_type": "code",
   "execution_count": 2,
   "id": "1ba032e1",
   "metadata": {},
   "outputs": [],
   "source": [
    "driver = webdriver.Chrome('D:\\chromedriver_win32\\chromedriver.exe')\n",
    "driver.get('https://www.instagram.com/accounts/emailsignup/')"
   ]
  },
  {
   "cell_type": "markdown",
   "id": "5c714436",
   "metadata": {},
   "source": [
    "## Step 2 - Input Email, Full Name, Username, Password, Submit Button"
   ]
  },
  {
   "cell_type": "code",
   "execution_count": 15,
   "id": "62e20d00",
   "metadata": {},
   "outputs": [],
   "source": [
    "emailPhone = WebDriverWait(driver,10).until(EC.element_to_be_clickable((By.CSS_SELECTOR, \"input[name='emailOrPhone']\"))).send_keys('0812313123')\n",
    "fullName = driver.find_element_by_xpath(\"//input[@name='fullName']\").send_keys(\"Zharmedia\")\n",
    "username = driver.find_element_by_css_selector(\"input[name='username']\").send_keys('zharmedia')\n",
    "password = driver.find_element_by_xpath(\"//input[@name='password']\").send_keys('123456789')\n",
    "submit = WebDriverWait(driver,10).until(EC.element_to_be_clickable((By.XPATH, \"//button[@type='submit']\"))).click()"
   ]
  }
 ],
 "metadata": {
  "kernelspec": {
   "display_name": "Python 3",
   "language": "python",
   "name": "python3"
  },
  "language_info": {
   "codemirror_mode": {
    "name": "ipython",
    "version": 3
   },
   "file_extension": ".py",
   "mimetype": "text/x-python",
   "name": "python",
   "nbconvert_exporter": "python",
   "pygments_lexer": "ipython3",
   "version": "3.8.8"
  }
 },
 "nbformat": 4,
 "nbformat_minor": 5
}
